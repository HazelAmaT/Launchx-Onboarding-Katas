{
 "cells": [
  {
   "cell_type": "markdown",
   "metadata": {},
   "source": [
    "# Ejercicio 1.  Utilizar operadores aritméticos\n"
   ]
  },
  {
   "cell_type": "code",
   "execution_count": 16,
   "metadata": {},
   "outputs": [],
   "source": [
    "tierra = 149597870\n",
    "Jupiter = 778547200\n",
    "millas = 0.621"
   ]
  },
  {
   "cell_type": "code",
   "execution_count": 23,
   "metadata": {},
   "outputs": [
    {
     "name": "stdout",
     "output_type": "stream",
     "text": [
      "628949330\n"
     ]
    }
   ],
   "source": [
    "diferencia = Jupiter - tierra\n",
    "print(diferencia)"
   ]
  },
  {
   "cell_type": "code",
   "execution_count": 18,
   "metadata": {},
   "outputs": [
    {
     "name": "stdout",
     "output_type": "stream",
     "text": [
      "390577533\n"
     ]
    }
   ],
   "source": [
    "distancia = ((Jupiter - tierra) * millas)\n",
    "print (int(distancia)) "
   ]
  },
  {
   "cell_type": "markdown",
   "metadata": {},
   "source": [
    "# Ejercicio 2. convierte cadenas en números y usa valores absolutos"
   ]
  },
  {
   "cell_type": "code",
   "execution_count": 5,
   "metadata": {},
   "outputs": [],
   "source": [
    "Planet_1 = input('Introduzca la distancia del sol para el primer planeta en KM')\n",
    "Planet_2 = input('Introduzca la distancia desde el sol para el')\n",
    "Planet_1 = int(Planet_1)\n",
    "Planet_2 = int(Planet_2)\n",
    "\n"
   ]
  },
  {
   "cell_type": "code",
   "execution_count": 6,
   "metadata": {},
   "outputs": [
    {
     "name": "stdout",
     "output_type": "stream",
     "text": [
      "12333334\n",
      "7659000.414\n"
     ]
    }
   ],
   "source": [
    "d_km = Planet_1 - Planet_2\n",
    "print(d_km)\n",
    "\n",
    "d_mi = d_km * 0.621\n",
    "print(abs(d_mi))"
   ]
  }
 ],
 "metadata": {
  "interpreter": {
   "hash": "ce667642eaf0368b47a3c5136c18498e48216b2061f779c43bfb4ed898ad1242"
  },
  "kernelspec": {
   "display_name": "Python 3.9.10 64-bit (windows store)",
   "language": "python",
   "name": "python3"
  },
  "language_info": {
   "codemirror_mode": {
    "name": "ipython",
    "version": 3
   },
   "file_extension": ".py",
   "mimetype": "text/x-python",
   "name": "python",
   "nbconvert_exporter": "python",
   "pygments_lexer": "ipython3",
   "version": "3.9.10"
  },
  "orig_nbformat": 4
 },
 "nbformat": 4,
 "nbformat_minor": 2
}
