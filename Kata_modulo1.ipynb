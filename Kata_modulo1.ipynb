{
 "cells": [
  {
   "cell_type": "markdown",
   "metadata": {},
   "source": [
    "#Agregar la fecha por medio de la biblioteca datetime.\n"
   ]
  },
  {
   "cell_type": "code",
   "execution_count": null,
   "metadata": {},
   "outputs": [
    {
     "name": "stdout",
     "output_type": "stream",
     "text": [
      "Today´s date is: 2022-02-09\n"
     ]
    }
   ],
   "source": [
    "from datetime import date\n",
    "date_hoy = date.today()\n",
    "print (\"Today´s date is: \" + str (date_hoy))\n"
   ]
  },
  {
   "cell_type": "markdown",
   "metadata": {},
   "source": [
    "#Conversion de parsecs a años luz"
   ]
  },
  {
   "cell_type": "code",
   "execution_count": 20,
   "metadata": {},
   "outputs": [
    {
     "name": "stdout",
     "output_type": "stream",
     "text": [
      "11 parsecs, is equaling to: 35.877159999999996 light_years \n"
     ]
    }
   ],
   "source": [
    "parsecs = 11\n",
    "light_years = parsecs * 3.26156\n",
    "\n",
    "print(str(parsecs) + \" parsecs, is equaling to: \" + str(light_years) + \" light_years \")\n"
   ]
  }
 ],
 "metadata": {
  "interpreter": {
   "hash": "fa95dd0646be65499ac130b541139f07e2474ee92f14e6201e59a1250cd6fc7e"
  },
  "kernelspec": {
   "display_name": "Python 3.9.7 64-bit",
   "language": "python",
   "name": "python3"
  },
  "language_info": {
   "codemirror_mode": {
    "name": "ipython",
    "version": 3
   },
   "file_extension": ".py",
   "mimetype": "text/x-python",
   "name": "python",
   "nbconvert_exporter": "python",
   "pygments_lexer": "ipython3",
   "version": "3.9.10"
  },
  "orig_nbformat": 4
 },
 "nbformat": 4,
 "nbformat_minor": 2
}
