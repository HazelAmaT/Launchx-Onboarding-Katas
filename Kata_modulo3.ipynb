{
 "cells": [
  {
   "cell_type": "markdown",
   "metadata": {},
   "source": [
    "Kata 3. Uso de condicionales if, else, elseif"
   ]
  },
  {
   "cell_type": "code",
   "execution_count": 14,
   "metadata": {},
   "outputs": [
    {
     "name": "stdout",
     "output_type": "stream",
     "text": [
      "!Aiuda!, plis.....\n"
     ]
    }
   ],
   "source": [
    "asteroide = 49\n",
    "if asteroide >= 25 :\n",
    "    print ('!Aiuda!, plis.....')\n",
    "else:\n",
    "    print ('Calma, mi chav@')\n"
   ]
  },
  {
   "cell_type": "code",
   "execution_count": 15,
   "metadata": {},
   "outputs": [
    {
     "name": "stdout",
     "output_type": "stream",
     "text": [
      "Todo OK, nada Nok\n"
     ]
    }
   ],
   "source": [
    "asteroide = 19\n",
    "if asteroide > 20:\n",
    "    print('Hay avistamientos de luz en la tierra')\n",
    "elif asteroide == 20:\n",
    "    print('Hay avistamientos de luz en la tierra')\n",
    "else:\n",
    "    print('Todo OK, nada Nok')"
   ]
  },
  {
   "cell_type": "code",
   "execution_count": 16,
   "metadata": {},
   "outputs": [
    {
     "name": "stdout",
     "output_type": "stream",
     "text": [
      "Hay avistamientos de luz en la tierra\n"
     ]
    }
   ],
   "source": [
    "v_asteroide = 25\n",
    "Diametro = 40\n",
    "if v_asteroide > 25 and Diametro > 25:\n",
    "    print('Peligro, se acerca un asteroide')\n",
    "elif v_asteroide >= 20: \n",
    "    print('Hay avistamientos de luz en la tierra')\n",
    "elif Diametro < 25:\n",
    "    print('Todo OK, nada Nok')\n",
    "else:\n",
    "    print('Todo OK, nada Nok')"
   ]
  }
 ],
 "metadata": {
  "interpreter": {
   "hash": "69eb92836b941e979072a76c7fcfffe5419cca933cedd02cfafbdfca1a93358c"
  },
  "kernelspec": {
   "display_name": "Python 3.9.10 64-bit",
   "language": "python",
   "name": "python3"
  },
  "language_info": {
   "codemirror_mode": {
    "name": "ipython",
    "version": 3
   },
   "file_extension": ".py",
   "mimetype": "text/x-python",
   "name": "python",
   "nbconvert_exporter": "python",
   "pygments_lexer": "ipython3",
   "version": "3.9.10"
  },
  "orig_nbformat": 4
 },
 "nbformat": 4,
 "nbformat_minor": 2
}
